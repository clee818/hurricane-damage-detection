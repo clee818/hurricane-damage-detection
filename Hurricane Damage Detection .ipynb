{
 "cells": [
  {
   "cell_type": "code",
   "execution_count": 385,
   "id": "3d42d8bc",
   "metadata": {},
   "outputs": [],
   "source": [
    "import pandas as pd\n",
    "import numpy as np\n",
    "import os\n",
    "from glob import glob\n",
    "from pathlib import Path\n",
    "import random\n",
    "import matplotlib.pylab as plt\n",
    "import tensorflow as tf\n",
    "import cv2\n",
    "from tensorflow import keras \n",
    "from tensorflow.keras.preprocessing.image import ImageDataGenerator\n",
    "import sklearn.metrics\n",
    "import seaborn as sns"
   ]
  },
  {
   "cell_type": "code",
   "execution_count": 386,
   "id": "efa7ac2a",
   "metadata": {},
   "outputs": [
    {
     "data": {
      "text/html": [
       "<div>\n",
       "<style scoped>\n",
       "    .dataframe tbody tr th:only-of-type {\n",
       "        vertical-align: middle;\n",
       "    }\n",
       "\n",
       "    .dataframe tbody tr th {\n",
       "        vertical-align: top;\n",
       "    }\n",
       "\n",
       "    .dataframe thead th {\n",
       "        text-align: right;\n",
       "    }\n",
       "</style>\n",
       "<table border=\"1\" class=\"dataframe\">\n",
       "  <thead>\n",
       "    <tr style=\"text-align: right;\">\n",
       "      <th></th>\n",
       "      <th>path</th>\n",
       "      <th>damage</th>\n",
       "      <th>data_split</th>\n",
       "      <th>location</th>\n",
       "      <th>lon</th>\n",
       "      <th>lat</th>\n",
       "    </tr>\n",
       "  </thead>\n",
       "  <tbody>\n",
       "    <tr>\n",
       "      <th>0</th>\n",
       "      <td>test/no_damage/-95.63609699999999_29.843807.jpeg</td>\n",
       "      <td>no_damage</td>\n",
       "      <td>test</td>\n",
       "      <td>-95.63609699999999_29.843807</td>\n",
       "      <td>-95.636097</td>\n",
       "      <td>29.843807</td>\n",
       "    </tr>\n",
       "    <tr>\n",
       "      <th>1</th>\n",
       "      <td>test/no_damage/-95.237647_29.559739.jpeg</td>\n",
       "      <td>no_damage</td>\n",
       "      <td>test</td>\n",
       "      <td>-95.237647_29.559739</td>\n",
       "      <td>-95.237647</td>\n",
       "      <td>29.559739</td>\n",
       "    </tr>\n",
       "    <tr>\n",
       "      <th>2</th>\n",
       "      <td>test/no_damage/-95.63993599999999_29.837821.jpeg</td>\n",
       "      <td>no_damage</td>\n",
       "      <td>test</td>\n",
       "      <td>-95.63993599999999_29.837821</td>\n",
       "      <td>-95.639936</td>\n",
       "      <td>29.837821</td>\n",
       "    </tr>\n",
       "    <tr>\n",
       "      <th>3</th>\n",
       "      <td>test/no_damage/-95.64638599999999_29.832628000...</td>\n",
       "      <td>no_damage</td>\n",
       "      <td>test</td>\n",
       "      <td>-95.64638599999999_29.832628000000003</td>\n",
       "      <td>-95.646386</td>\n",
       "      <td>29.832628</td>\n",
       "    </tr>\n",
       "    <tr>\n",
       "      <th>4</th>\n",
       "      <td>test/no_damage/-95.631831_29.849646999999997.jpeg</td>\n",
       "      <td>no_damage</td>\n",
       "      <td>test</td>\n",
       "      <td>-95.631831_29.849646999999997</td>\n",
       "      <td>-95.631831</td>\n",
       "      <td>29.849647</td>\n",
       "    </tr>\n",
       "  </tbody>\n",
       "</table>\n",
       "</div>"
      ],
      "text/plain": [
       "                                                path     damage data_split   \n",
       "0   test/no_damage/-95.63609699999999_29.843807.jpeg  no_damage       test  \\\n",
       "1           test/no_damage/-95.237647_29.559739.jpeg  no_damage       test   \n",
       "2   test/no_damage/-95.63993599999999_29.837821.jpeg  no_damage       test   \n",
       "3  test/no_damage/-95.64638599999999_29.832628000...  no_damage       test   \n",
       "4  test/no_damage/-95.631831_29.849646999999997.jpeg  no_damage       test   \n",
       "\n",
       "                                location        lon        lat  \n",
       "0           -95.63609699999999_29.843807 -95.636097  29.843807  \n",
       "1                   -95.237647_29.559739 -95.237647  29.559739  \n",
       "2           -95.63993599999999_29.837821 -95.639936  29.837821  \n",
       "3  -95.64638599999999_29.832628000000003 -95.646386  29.832628  \n",
       "4          -95.631831_29.849646999999997 -95.631831  29.849647  "
      ]
     },
     "execution_count": 386,
     "metadata": {},
     "output_type": "execute_result"
    }
   ],
   "source": [
    "image_df = pd.DataFrame({'path': list(Path(\"\").glob('**/*.jp*g'))})\n",
    "\n",
    "image_df['damage'] = image_df['path'].map(lambda x: x.parent.stem)\n",
    "image_df['data_split'] = image_df['path'].map(lambda x: x.parent.parent.stem)\n",
    "image_df['location'] = image_df['path'].map(lambda x: x.stem)\n",
    "image_df['lon'] = image_df['location'].map(lambda x: float(x.split('_')[0]))\n",
    "image_df['lat'] = image_df['location'].map(lambda x: float(x.split('_')[-1]))\n",
    "image_df['path'] = image_df['path'].map(lambda x: str(x))\n",
    "image_df.head()"
   ]
  },
  {
   "cell_type": "code",
   "execution_count": null,
   "id": "73a70efb",
   "metadata": {},
   "outputs": [],
   "source": [
    "fig, ax = plt.subplots(nrows=2, ncols=10, sharex=True, sharey=True, figsize=(20,6))\n",
    "image_df_dmg = image_df[image_df['damage']=='damage']\n",
    "image_df_nodmg = image_df[image_df['damage']=='no_damage']\n",
    "image_df_dmg.reset_index(drop=True,inplace=True)\n",
    "image_df_nodmg.reset_index(drop=True,inplace=True)\n",
    "\n",
    "ax = ax.flatten()\n",
    "\n",
    "for i in range(10):\n",
    "    img = cv2.imread(image_df_dmg['path'][i], cv2.IMREAD_UNCHANGED)\n",
    "    ax[i].imshow(cv2.cvtColor(img, cv2.COLOR_BGR2RGB))\n",
    "    ax[i].set_title('damage')\n",
    "    \n",
    "for i in range(10,20):\n",
    "    img = cv2.imread(image_df_nodmg['path'][i], cv2.IMREAD_UNCHANGED)\n",
    "    ax[i].imshow(cv2.cvtColor(img, cv2.COLOR_BGR2RGB))\n",
    "    ax[i].set_title('no damage')\n",
    "    \n",
    "plt.show()"
   ]
  },
  {
   "cell_type": "code",
   "execution_count": 388,
   "id": "627a7cd3",
   "metadata": {},
   "outputs": [],
   "source": [
    "data_used = ['path', 'damage']\n",
    "train_df = image_df[image_df['data_split']=='train_another'][data_used].copy()\n",
    "val_df = image_df[image_df['data_split']=='validation_another'][data_used].copy()\n",
    "test_df = image_df[image_df['data_split']=='test'][data_used].copy()"
   ]
  },
  {
   "cell_type": "code",
   "execution_count": 389,
   "id": "abfd305c",
   "metadata": {},
   "outputs": [
    {
     "name": "stdout",
     "output_type": "stream",
     "text": [
      "Found 10000 validated image filenames belonging to 2 classes.\n",
      "Found 2000 validated image filenames belonging to 2 classes.\n",
      "Found 2000 validated image filenames belonging to 2 classes.\n"
     ]
    }
   ],
   "source": [
    "train_gen = ImageDataGenerator()\n",
    "val_gen = ImageDataGenerator()\n",
    "test_gen = ImageDataGenerator()\n",
    "\n",
    "train_data = train_gen.flow_from_dataframe(\n",
    "    dataframe = train_df,\n",
    "    x_col = 'path',\n",
    "    y_col = 'damage',\n",
    "    target_size = (227,227),\n",
    "    color_mode = 'rgb',\n",
    "    class_mode = 'categorical',\n",
    "    shuffle = True,\n",
    "    batch_size=64\n",
    ")\n",
    "\n",
    "val_data = val_gen.flow_from_dataframe(\n",
    "    dataframe = val_df,\n",
    "    x_col = 'path',\n",
    "    y_col = 'damage',\n",
    "    target_size = (227,227),\n",
    "    color_mode = 'rgb',\n",
    "    class_mode = 'categorical',\n",
    "    shuffle = False,\n",
    "    batch_size=100\n",
    ")\n",
    "\n",
    "test_data = test_gen.flow_from_dataframe(\n",
    "    dataframe = test_df,\n",
    "    x_col = 'path',\n",
    "    y_col = 'damage',\n",
    "    target_size = (227,227),\n",
    "    color_mode = 'rgb',\n",
    "    class_mode = 'categorical',\n",
    "    shuffle = False,\n",
    "    batch_size=100\n",
    ")"
   ]
  },
  {
   "cell_type": "code",
   "execution_count": 403,
   "id": "1f2e6014",
   "metadata": {},
   "outputs": [],
   "source": [
    "# modified AlexNet\n",
    "model = keras.models.Sequential([\n",
    "    keras.layers.Conv2D(filters=16, kernel_size=(11,11), strides=(4,4), activation='relu', input_shape=(227,227,3)),\n",
    "    keras.layers.BatchNormalization(),\n",
    "    keras.layers.MaxPool2D(pool_size=(3,3), strides=(2,2)),\n",
    "    keras.layers.Conv2D(filters=96, kernel_size=(5,5), strides=(2,2), activation='relu', padding=\"same\"),\n",
    "    keras.layers.BatchNormalization(),\n",
    "    keras.layers.MaxPool2D(pool_size=(3,3), strides=(2,2)),\n",
    "    keras.layers.Conv2D(filters=256, kernel_size=(3,3), strides=(1,1), activation='relu', padding=\"same\"),\n",
    "    keras.layers.BatchNormalization(),\n",
    "    keras.layers.Conv2D(filters=256, kernel_size=(3,3), strides=(1,1), activation='relu', padding=\"same\"),\n",
    "    keras.layers.BatchNormalization(),\n",
    "    keras.layers.Conv2D(filters=96, kernel_size=(3,3), strides=(1,1), activation='relu', padding=\"same\"),\n",
    "    keras.layers.BatchNormalization(),\n",
    "    keras.layers.MaxPool2D(pool_size=(3,3), strides=(2,2)),\n",
    "    keras.layers.Flatten(),\n",
    "    keras.layers.Dense(4096, activation='relu'),\n",
    "    keras.layers.Dropout(0.5),\n",
    "    keras.layers.Dense(4096, activation='relu'),\n",
    "    keras.layers.Dropout(0.5),\n",
    "    keras.layers.Dense(2, activation='sigmoid')\n",
    "])\n",
    "model.compile(\n",
    "    optimizer=tf.keras.optimizers.legacy.Adam(learning_rate=5e-6),\n",
    "    loss='binary_crossentropy',\n",
    "    metrics=['accuracy', 'AUC','Recall']\n",
    ")"
   ]
  },
  {
   "cell_type": "code",
   "execution_count": 404,
   "id": "9499b67d",
   "metadata": {},
   "outputs": [
    {
     "name": "stdout",
     "output_type": "stream",
     "text": [
      "Epoch 1/10\n",
      "157/157 [==============================] - 20s 126ms/step - loss: 0.6280 - accuracy: 0.7112 - auc: 0.7499 - recall: 0.6906 - val_loss: 0.5298 - val_accuracy: 0.7690 - val_auc: 0.8533 - val_recall: 0.7895\n",
      "Epoch 2/10\n",
      "157/157 [==============================] - 20s 128ms/step - loss: 0.4668 - accuracy: 0.8084 - auc: 0.8683 - recall: 0.8014 - val_loss: 0.4063 - val_accuracy: 0.8205 - val_auc: 0.8990 - val_recall: 0.8165\n",
      "Epoch 3/10\n",
      "157/157 [==============================] - 20s 126ms/step - loss: 0.3828 - accuracy: 0.8459 - auc: 0.9115 - recall: 0.8378 - val_loss: 0.3206 - val_accuracy: 0.8605 - val_auc: 0.9375 - val_recall: 0.8540\n",
      "Epoch 4/10\n",
      "157/157 [==============================] - 20s 125ms/step - loss: 0.3236 - accuracy: 0.8704 - auc: 0.9370 - recall: 0.8647 - val_loss: 0.2772 - val_accuracy: 0.8840 - val_auc: 0.9531 - val_recall: 0.8875\n",
      "Epoch 5/10\n",
      "157/157 [==============================] - 19s 124ms/step - loss: 0.2844 - accuracy: 0.8917 - auc: 0.9509 - recall: 0.8861 - val_loss: 0.2521 - val_accuracy: 0.8920 - val_auc: 0.9616 - val_recall: 0.8920\n",
      "Epoch 6/10\n",
      "157/157 [==============================] - 21s 131ms/step - loss: 0.2618 - accuracy: 0.8984 - auc: 0.9587 - recall: 0.8947 - val_loss: 0.2453 - val_accuracy: 0.8920 - val_auc: 0.9641 - val_recall: 0.8890\n",
      "Epoch 7/10\n",
      "157/157 [==============================] - 20s 126ms/step - loss: 0.2404 - accuracy: 0.9066 - auc: 0.9649 - recall: 0.9041 - val_loss: 0.2344 - val_accuracy: 0.9050 - val_auc: 0.9670 - val_recall: 0.9080\n",
      "Epoch 8/10\n",
      "157/157 [==============================] - 20s 127ms/step - loss: 0.2184 - accuracy: 0.9163 - auc: 0.9708 - recall: 0.9119 - val_loss: 0.2573 - val_accuracy: 0.8920 - val_auc: 0.9655 - val_recall: 0.8945\n",
      "Epoch 9/10\n",
      "157/157 [==============================] - 20s 126ms/step - loss: 0.2046 - accuracy: 0.9225 - auc: 0.9741 - recall: 0.9186 - val_loss: 0.2289 - val_accuracy: 0.9155 - val_auc: 0.9688 - val_recall: 0.9190\n",
      "Epoch 10/10\n",
      "157/157 [==============================] - 20s 124ms/step - loss: 0.1914 - accuracy: 0.9266 - auc: 0.9773 - recall: 0.9242 - val_loss: 0.2151 - val_accuracy: 0.9155 - val_auc: 0.9724 - val_recall: 0.9125\n"
     ]
    }
   ],
   "source": [
    "history = model.fit(train_data,epochs=10,validation_data=val_data)"
   ]
  },
  {
   "cell_type": "code",
   "execution_count": 405,
   "id": "0c9f93b8",
   "metadata": {},
   "outputs": [
    {
     "data": {
      "image/png": "[encoded data removed]",
      "text/plain": [
       "<Figure size 640x480 with 1 Axes>"
      ]
     },
     "metadata": {},
     "output_type": "display_data"
    }
   ],
   "source": [
    "plt.plot(history.history['auc'])\n",
    "plt.plot(history.history['val_auc'])\n",
    "plt.title('Model AUC')\n",
    "plt.ylabel('auc')\n",
    "plt.xlabel('epoch')\n",
    "plt.legend(['train', 'validation'], loc='upper left')\n",
    "plt.show()"
   ]
  },
  {
   "cell_type": "code",
   "execution_count": 406,
   "id": "a58a942d",
   "metadata": {},
   "outputs": [
    {
     "data": {
      "image/png": "[encoded data removed]",
      "text/plain": [
       "<Figure size 640x480 with 1 Axes>"
      ]
     },
     "metadata": {},
     "output_type": "display_data"
    }
   ],
   "source": [
    "plt.plot(history.history['loss'])\n",
    "plt.plot(history.history['val_loss'])\n",
    "plt.title('Model Loss')\n",
    "plt.ylabel('loss')\n",
    "plt.xlabel('epoch')\n",
    "plt.legend(['train', 'validation'], loc='upper left')\n",
    "plt.show()"
   ]
  },
  {
   "cell_type": "code",
   "execution_count": 428,
   "id": "fe163d30",
   "metadata": {},
   "outputs": [
    {
     "name": "stdout",
     "output_type": "stream",
     "text": [
      "INFO:tensorflow:Assets written to: model/assets\n"
     ]
    },
    {
     "name": "stderr",
     "output_type": "stream",
     "text": [
      "INFO:tensorflow:Assets written to: model/assets\n"
     ]
    }
   ],
   "source": [
    "tf.keras.Model.save(model,'model')"
   ]
  },
  {
   "cell_type": "code",
   "execution_count": 407,
   "id": "70e6f60b",
   "metadata": {},
   "outputs": [
    {
     "name": "stdout",
     "output_type": "stream",
     "text": [
      "20/20 [==============================] - 1s 56ms/step\n",
      "20/20 [==============================] - 1s 53ms/step - loss: 0.2137 - accuracy: 0.9185 - auc: 0.9728 - recall: 0.9165\n"
     ]
    }
   ],
   "source": [
    "preds = model.predict(test_data)\n",
    "score = model.evaluate(test_data)"
   ]
  },
  {
   "cell_type": "code",
   "execution_count": 415,
   "id": "012b4c33",
   "metadata": {},
   "outputs": [],
   "source": [
    "y_pred = np.argmax(preds, axis=1)\n",
    "y_true = test_data.labels"
   ]
  },
  {
   "cell_type": "code",
   "execution_count": 418,
   "id": "a696f3f4",
   "metadata": {},
   "outputs": [
    {
     "name": "stdout",
     "output_type": "stream",
     "text": [
      "0.459\n"
     ]
    }
   ],
   "source": [
    "print(np.count_nonzero(y_pred[y_true == y_pred]) / len(y_pred))"
   ]
  },
  {
   "cell_type": "code",
   "execution_count": 421,
   "id": "848232d5",
   "metadata": {},
   "outputs": [],
   "source": [
    "confusion_matrix = sklearn.metrics.confusion_matrix(list(y_true), list(y_pred))\n",
    "con_mat_df = pd.DataFrame(confusion_matrix,index = ['No Damage', 'Damage'], columns = ['No Damage', 'Damage'])"
   ]
  },
  {
   "cell_type": "code",
   "execution_count": 426,
   "id": "01c42476",
   "metadata": {
    "scrolled": false
   },
   "outputs": [
    {
     "data": {
      "image/png": "[encoded data removed]",
      "text/plain": [
       "<Figure size 600x300 with 2 Axes>"
      ]
     },
     "metadata": {},
     "output_type": "display_data"
    },
    {
     "name": "stdout",
     "output_type": "stream",
     "text": [
      "Sensitivity = 0.9180\n",
      "Specificity = 0.9190\n",
      "Precision = 0.9189\n",
      "Negative Predictive Value = 0.9181\n"
     ]
    }
   ],
   "source": [
    "TN = confusion_matrix[0,0]\n",
    "FN = confusion_matrix[1,0]\n",
    "TP = confusion_matrix[1,1]\n",
    "FP = confusion_matrix[0,1]\n",
    "\n",
    "\n",
    "figure = plt.figure(figsize=(6, 3))\n",
    "sns.heatmap(con_mat_df, annot=True,cmap=plt.cm.cool,fmt='d')\n",
    "plt.tight_layout()\n",
    "plt.ylabel('Actual')\n",
    "plt.xlabel('Predicted')\n",
    "plt.show()\n",
    "\n",
    "print('Sensitivity = {:.4f}'.format(TP/(TP+FN)))\n",
    "print('Specificity = {:.4f}'.format(TN/(TN+FP)))\n",
    "print('Precision = {:.4f}'.format(TP/(TP+FP)))\n",
    "print('Negative Predictive Value = {:.4f}'.format(TN/(TN+FN)))"
   ]
  },
  {
   "cell_type": "code",
   "execution_count": null,
   "id": "4f9d223b",
   "metadata": {},
   "outputs": [],
   "source": []
  }
 ],
 "metadata": {
  "kernelspec": {
   "display_name": "Python 3 (ipykernel)",
   "language": "python",
   "name": "python3"
  },
  "language_info": {
   "codemirror_mode": {
    "name": "ipython",
    "version": 3
   },
   "file_extension": ".py",
   "mimetype": "text/x-python",
   "name": "python",
   "nbconvert_exporter": "python",
   "pygments_lexer": "ipython3",
   "version": "3.9.6"
  }
 },
 "nbformat": 4,
 "nbformat_minor": 5
}
